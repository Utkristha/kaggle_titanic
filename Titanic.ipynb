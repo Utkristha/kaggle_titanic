{
 "cells": [
  {
   "cell_type": "code",
   "execution_count": 35,
   "id": "991e6ac0-f10e-4af4-aea9-13bfb5068998",
   "metadata": {},
   "outputs": [],
   "source": [
    "import numpy as np\n",
    "import copy\n",
    "import seaborn as sns\n",
    "import matplotlib.pyplot as plt\n",
    "import sklearn\n",
    "import sklearn.datasets\n",
    "import sklearn.linear_model\n",
    "from data import *\n",
    "from data_to_csv import *\n"
   ]
  },
  {
   "cell_type": "code",
   "execution_count": 36,
   "id": "1c7c00de-aac7-491e-8bc1-8c6cd5a0993e",
   "metadata": {},
   "outputs": [],
   "source": [
    "X,Y,test_data = data_loading()"
   ]
  },
  {
   "cell_type": "code",
   "execution_count": 37,
   "id": "d688df27-880c-4981-906b-00a0287e8304",
   "metadata": {},
   "outputs": [
    {
     "data": {
      "text/plain": [
       "(4, 891)"
      ]
     },
     "execution_count": 37,
     "metadata": {},
     "output_type": "execute_result"
    }
   ],
   "source": [
    "X.shape\n"
   ]
  },
  {
   "cell_type": "code",
   "execution_count": 38,
   "id": "94d3b9ff-b28b-492f-9537-47e46efed28a",
   "metadata": {},
   "outputs": [],
   "source": [
    "def sigmoid(z):\n",
    "    sig = 1/(1+np.exp(-z))\n",
    "    return sig"
   ]
  },
  {
   "cell_type": "code",
   "execution_count": 39,
   "id": "b63b76c1-98f4-49f3-ba70-908fe024df8e",
   "metadata": {},
   "outputs": [],
   "source": [
    "def layer_sizes(X,Y):\n",
    "    n_x = X.shape[0]\n",
    "    n_h = 50\n",
    "    n_y = Y.shape[0]\n",
    "\n",
    "    return (n_x,n_h,n_y)"
   ]
  },
  {
   "cell_type": "code",
   "execution_count": 40,
   "id": "874596e5-3219-4362-9969-4cbf50734a9d",
   "metadata": {},
   "outputs": [],
   "source": [
    "def initialize_parameters(n_x,n_h,n_y):\n",
    "    W1 = np.random.randn(n_h,n_x) * 0.01\n",
    "    b1 = np.zeros((n_h,1))\n",
    "    W2 = np.random.randn(n_y,n_h) * 0.01\n",
    "    b2 = np.zeros((n_y,1))\n",
    "\n",
    "    parameters = {\n",
    "        'W1' : W1,\n",
    "        'b1' : b1,\n",
    "        'W2' : W2,\n",
    "        'b2' : b2\n",
    "    }\n",
    "    return parameters"
   ]
  },
  {
   "cell_type": "code",
   "execution_count": 41,
   "id": "927de3f2-312b-4bd2-87d7-e020b3728f78",
   "metadata": {},
   "outputs": [],
   "source": [
    "def forward_propagation(X,parameters):\n",
    "    \n",
    "    W1 =  parameters['W1']\n",
    "    b1 =  parameters['b1']\n",
    "    W2 =  parameters['W2']\n",
    "    b2 =  parameters['b2']\n",
    "\n",
    "    Z1 = np.dot(W1,X) + b1\n",
    "    A1 = np.tanh(Z1)\n",
    "    Z2 = np.dot(W2,A1) + b2\n",
    "    A2 = sigmoid(Z2)\n",
    "\n",
    "    assert(A2.shape == (1, X.shape[1]))\n",
    "\n",
    "    cache = {\n",
    "        'Z1' : Z1,\n",
    "        'A1' : A1,\n",
    "        'Z2' : Z2,\n",
    "        'A2' : A2\n",
    "    }\n",
    "\n",
    "    return A2,cache"
   ]
  },
  {
   "cell_type": "code",
   "execution_count": 42,
   "id": "d0c68283-2e06-4a84-a6b0-e4737444c33b",
   "metadata": {},
   "outputs": [],
   "source": [
    "def compute_cost(A2,Y):\n",
    "    m = Y.shape[1]\n",
    "\n",
    "    logprobs = np.multiply(Y,np.log(A2)) + np.multiply(1-Y,np.log(1-A2))\n",
    "    cost = -(np.sum(logprobs))/m\n",
    "\n",
    "    cost = float(np.squeeze(cost))\n",
    "\n",
    "    return cost"
   ]
  },
  {
   "cell_type": "code",
   "execution_count": 43,
   "id": "cdb2e67d-78dd-4b87-9176-b201c121fb75",
   "metadata": {},
   "outputs": [],
   "source": [
    "def back_propagation(parameters,cache,X,Y):\n",
    "\n",
    "    m = X.shape[1]\n",
    "\n",
    "    W1 = parameters['W1']\n",
    "    W2 = parameters['W2']\n",
    "\n",
    "    A1 = cache['A1']\n",
    "    A2 = cache['A2']\n",
    "\n",
    "    dZ2 = A2 - Y\n",
    "    dW2 = (np.dot(dZ2,A1.T))/m\n",
    "    db2 = np.sum(dZ2,axis=1,keepdims=True)/m\n",
    "    dZ1 = np.dot(W2.T,dZ2) * (1-np.power(A1,2))\n",
    "    dW1 = np.dot(dZ1,X.T)/m\n",
    "    db1 = np.sum(dZ1,axis=1,keepdims=True)/m\n",
    "\n",
    "    grads = {\"dW1\": dW1,\n",
    "             \"db1\": db1,\n",
    "             \"dW2\": dW2,\n",
    "             \"db2\": db2}\n",
    "    \n",
    "    return grads\n",
    "    "
   ]
  },
  {
   "cell_type": "code",
   "execution_count": 44,
   "id": "a3ff7545-75bd-4603-86a8-bc3de7aab2a8",
   "metadata": {},
   "outputs": [],
   "source": [
    "def update_parameters(prarameters,grads,learning_rate=1.5):\n",
    "    W1 = copy.deepcopy(prarameters['W1'])\n",
    "    b1 = copy.deepcopy(prarameters['b1'])\n",
    "    W2 = copy.deepcopy(prarameters['W2'])\n",
    "    b2 = copy.deepcopy(prarameters['b2'])\n",
    "\n",
    "\n",
    "    dW1 = grads['dW1']\n",
    "    db1 = grads['db1']\n",
    "    dW2 = grads['dW2']\n",
    "    db2 = grads['db2']\n",
    "\n",
    "    W1 = W1 - learning_rate*dW1\n",
    "    b1 = b1 - learning_rate*db1\n",
    "    W2 = W2 - learning_rate*dW2\n",
    "    b2 = b2 - learning_rate*db2\n",
    "\n",
    "    parameters = {\n",
    "        'W1' : W1,\n",
    "        'b1' : b1,\n",
    "        'W2' : W2,\n",
    "        'b2' : b2\n",
    "    }\n",
    "    return parameters"
   ]
  },
  {
   "cell_type": "code",
   "execution_count": 45,
   "id": "3117b6e8-5125-46bf-8e83-6ec3df377e4d",
   "metadata": {},
   "outputs": [],
   "source": [
    "def model(X,Y,n_h,num_iterations = 10000,print_cost = False):\n",
    "    n_x = layer_sizes(X,Y)[0]\n",
    "    n_y = layer_sizes(X,Y)[2]\n",
    "\n",
    "    parameters = initialize_parameters(n_x,n_h,n_y)\n",
    "\n",
    "    for i in range(0,num_iterations):\n",
    "        \n",
    "        A2,cache = forward_propagation(X,parameters)\n",
    "        cost = compute_cost(A2,Y)\n",
    "        grads = back_propagation(parameters,cache,X,Y)\n",
    "        parameters = update_parameters(parameters,grads)\n",
    "\n",
    "        if print_cost and i % 1000 == 0:\n",
    "            print (\"Cost after iteration %i: %f\" %(i, cost))\n",
    "\n",
    "    return parameters"
   ]
  },
  {
   "cell_type": "code",
   "execution_count": 46,
   "id": "48a15454-3dd4-4bae-9022-9803a1638ebe",
   "metadata": {},
   "outputs": [],
   "source": [
    "def predict(parameters,X):\n",
    "    A2,cache = forward_propagation(X,parameters)\n",
    "    predictions = (A2>0.5)\n",
    "\n",
    "    return predictions\n",
    "    "
   ]
  },
  {
   "cell_type": "code",
   "execution_count": 47,
   "id": "136a762e-7e2b-469a-8f70-45754773f312",
   "metadata": {},
   "outputs": [],
   "source": [
    "nn_model = model(X, Y, n_h = 4, num_iterations = 30000, print_cost=False)\n"
   ]
  },
  {
   "cell_type": "code",
   "execution_count": 48,
   "id": "0d4e8ba4-ce45-46fb-897e-c97bcff33d4d",
   "metadata": {},
   "outputs": [],
   "source": [
    "def accuracy():\n",
    "    poodiction = predict(parameters,X)\n",
    "    poodiction = np.array(poodiction,dtype =int)\n",
    "    correct_pred = np.sum(poodiction==Y)\n",
    "    print(correct_pred/Y.shape[1])"
   ]
  },
  {
   "cell_type": "code",
   "execution_count": 49,
   "id": "db0499f2-8d33-421f-841c-feffb541b221",
   "metadata": {},
   "outputs": [],
   "source": [
    "predictions_on_test = predict(nn_model, test_data)"
   ]
  },
  {
   "cell_type": "code",
   "execution_count": 56,
   "id": "b175d410-1f3e-4a06-9288-16da1b703c65",
   "metadata": {},
   "outputs": [],
   "source": [
    "predictions_on_test = predictions_on_test.flatten()"
   ]
  },
  {
   "cell_type": "code",
   "execution_count": 57,
   "id": "682483a0-109d-42ea-9ac3-660b796e3dce",
   "metadata": {},
   "outputs": [
    {
     "data": {
      "text/plain": [
       "array([False,  True, False, False,  True, False,  True, False,  True,\n",
       "       False, False, False,  True, False,  True,  True, False, False,\n",
       "        True,  True, False, False,  True, False,  True, False,  True,\n",
       "       False, False, False, False, False, False, False, False, False,\n",
       "        True,  True, False, False, False, False, False,  True,  True,\n",
       "       False, False, False,  True, False, False, False,  True,  True,\n",
       "       False, False, False, False, False,  True, False, False, False,\n",
       "        True, False,  True,  True, False, False,  True,  True, False,\n",
       "        True, False,  True, False, False,  True, False,  True, False,\n",
       "       False, False, False, False, False,  True,  True,  True, False,\n",
       "        True, False,  True, False, False, False,  True, False,  True,\n",
       "       False,  True, False, False, False,  True, False, False, False,\n",
       "       False, False, False,  True,  True,  True,  True, False, False,\n",
       "       False, False,  True,  True, False,  True, False, False, False,\n",
       "       False, False, False, False, False, False, False, False, False,\n",
       "       False, False, False,  True, False, False,  True, False, False,\n",
       "       False, False, False, False, False, False,  True, False, False,\n",
       "       False, False, False,  True,  True, False, False,  True, False,\n",
       "        True, False, False, False, False, False,  True,  True, False,\n",
       "       False, False, False, False,  True,  True, False,  True,  True,\n",
       "       False, False,  True, False,  True, False,  True, False, False,\n",
       "       False, False, False, False, False,  True, False, False,  True,\n",
       "       False,  True,  True, False, False,  True, False, False,  True,\n",
       "       False,  True, False, False, False, False,  True,  True, False,\n",
       "        True, False,  True, False,  True, False,  True, False,  True,\n",
       "       False, False,  True, False, False, False,  True, False, False,\n",
       "       False, False, False, False,  True,  True,  True,  True, False,\n",
       "       False, False, False,  True, False,  True,  True,  True, False,\n",
       "       False, False, False, False, False, False,  True, False, False,\n",
       "       False,  True,  True, False, False, False, False,  True, False,\n",
       "       False, False,  True,  True, False,  True, False, False, False,\n",
       "       False,  True, False,  True, False, False, False, False, False,\n",
       "       False, False, False,  True, False, False, False, False,  True,\n",
       "       False, False, False, False, False, False, False,  True,  True,\n",
       "       False, False, False,  True, False, False, False,  True,  True,\n",
       "        True, False, False, False, False, False, False, False, False,\n",
       "        True, False,  True, False, False, False,  True, False, False,\n",
       "       False, False, False, False, False, False, False, False, False,\n",
       "       False,  True, False,  True, False,  True, False,  True,  True,\n",
       "       False, False, False, False, False,  True, False, False,  True,\n",
       "       False,  True,  True, False,  True, False, False, False,  True,\n",
       "       False, False,  True, False, False,  True,  True,  True, False,\n",
       "       False, False, False, False,  True,  True, False,  True, False,\n",
       "       False, False, False, False,  True, False, False, False,  True,\n",
       "       False,  True, False, False,  True, False,  True, False, False,\n",
       "       False, False, False,  True,  True,  True,  True,  True, False,\n",
       "        True, False, False, False])"
      ]
     },
     "execution_count": 57,
     "metadata": {},
     "output_type": "execute_result"
    }
   ],
   "source": [
    "predictions_on_test"
   ]
  },
  {
   "cell_type": "code",
   "execution_count": 58,
   "id": "4aba2ba2-4428-4e1a-901d-224b26ce1d4c",
   "metadata": {},
   "outputs": [],
   "source": [
    "data = pd.read_csv(\"result.csv\")"
   ]
  },
  {
   "cell_type": "code",
   "execution_count": 59,
   "id": "e81c261e-3de4-4d9c-885d-7c01c5c4e60e",
   "metadata": {},
   "outputs": [],
   "source": [
    "output = pd.DataFrame({\n",
    "    'PassengerId': data['PassengerId'],\n",
    "    'Prediction': predictions_on_test\n",
    "})"
   ]
  },
  {
   "cell_type": "code",
   "execution_count": 60,
   "id": "8f57e58f-d0f5-414c-9a47-81886b8f87dd",
   "metadata": {},
   "outputs": [],
   "source": [
    "output.to_csv('new_file.csv', index=False)"
   ]
  },
  {
   "cell_type": "code",
   "execution_count": null,
   "id": "c18284a4-e63a-475a-8001-178d117bc7fc",
   "metadata": {},
   "outputs": [],
   "source": []
  }
 ],
 "metadata": {
  "kernelspec": {
   "display_name": "Python 3 (ipykernel)",
   "language": "python",
   "name": "python3"
  },
  "language_info": {
   "codemirror_mode": {
    "name": "ipython",
    "version": 3
   },
   "file_extension": ".py",
   "mimetype": "text/x-python",
   "name": "python",
   "nbconvert_exporter": "python",
   "pygments_lexer": "ipython3",
   "version": "3.12.3"
  }
 },
 "nbformat": 4,
 "nbformat_minor": 5
}
